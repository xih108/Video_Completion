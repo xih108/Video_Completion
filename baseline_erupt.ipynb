{
 "cells": [
  {
   "cell_type": "code",
   "execution_count": 1,
   "metadata": {},
   "outputs": [],
   "source": [
    "import numpy as np\n",
    "from utils import *\n",
    "import matplotlib.pyplot as plt"
   ]
  },
  {
   "cell_type": "code",
   "execution_count": 4,
   "metadata": {},
   "outputs": [],
   "source": [
    "f = open(\"./dataset/MITD/eruption_val.txt\")\n",
    "titlemix = f.read()\n",
    "\n",
    "titlelist = []\n",
    "for line in titlemix.splitlines():\n",
    "    if \"mp4\" in line:\n",
    "        titlelist.append(line)"
   ]
  },
  {
   "cell_type": "code",
   "execution_count": 5,
   "metadata": {},
   "outputs": [],
   "source": [
    "# def rgb2gray(rgb):\n",
    "#     return  rgb[...,:3] @ [0.2989, 0.5870, 0.1140]"
   ]
  },
  {
   "cell_type": "code",
   "execution_count": 15,
   "metadata": {},
   "outputs": [
    {
     "name": "stdout",
     "output_type": "stream",
     "text": [
      "avg interpolated L2 dist = 3219.599211445131 \n",
      "SD of interpolated L2 dist = 2958.21899589295 \n"
     ]
    }
   ],
   "source": [
    "path = \"./dataset/MITD/\"\n",
    "\n",
    "originals = []\n",
    "interpolated = []\n",
    "stats = []\n",
    "\n",
    "for i in range(len(titlelist)):\n",
    "    file_in = path+\"videos/erupting_val/\"+titlelist[i]\n",
    "    file_out_interpolated = path+\"videos_for_poster/eruption_test_{:02d}_interpolated.mp4\".format(i)\n",
    "    \n",
    "    data_original, _ = video_to_frames(file_in)\n",
    "    data_original =  data_original[:16]\n",
    "    imgs = data_original[::15]\n",
    "    data_interpolated = generate_resized_and_interpolated_video(data_original, imgs, True)\n",
    "    \n",
    "    imageio.mimwrite(file_out_interpolated, data_interpolated, fps=10)\n",
    "    originals.append(data_original)\n",
    "    interpolated.append(data_interpolated)\n",
    "    \n",
    "    stats.append(L2Difference(data_original[1:15], data_interpolated[1:15]))\n",
    "print(\"avg interpolated L2 dist = {} \".format(np.mean(stats)))\n",
    "print(\"SD of interpolated L2 dist = {} \".format(np.std(stats)))\n"
   ]
  },
  {
   "cell_type": "code",
   "execution_count": 5,
   "metadata": {},
   "outputs": [],
   "source": [
    "# for video_id in range(4):\n",
    "#     fig = plt.figure(figsize=(10 * 2, 2))\n",
    "#     for frame_id in range(0, 16):\n",
    "#         ax = fig.add_axes([(frame_id+1) * 1 / 15., 0, (frame_id + 2) * 1 / 15., 1],\n",
    "#                           xmargin=0, ymargin=0)\n",
    "#         ax.imshow(originals[video_id][frame_id]/255)\n",
    "#         ax.axis('off')"
   ]
  },
  {
   "cell_type": "code",
   "execution_count": 6,
   "metadata": {},
   "outputs": [],
   "source": [
    "# for video_id in range(4):\n",
    "#     fig = plt.figure(figsize=(10 * 2, 2))\n",
    "#     for frame_id in range(0, 16):\n",
    "#         ax = fig.add_axes([(frame_id+1) * 1 / 15., 0, (frame_id + 2) * 1 / 15., 1],\n",
    "#                           xmargin=0, ymargin=0)\n",
    "#         ax.imshow(interpolated[video_id][frame_id]/255)\n",
    "#         ax.axis('off')"
   ]
  },
  {
   "cell_type": "code",
   "execution_count": null,
   "metadata": {},
   "outputs": [],
   "source": []
  },
  {
   "cell_type": "code",
   "execution_count": 7,
   "metadata": {},
   "outputs": [
    {
     "ename": "SyntaxError",
     "evalue": "invalid syntax (<ipython-input-7-6843986d37ae>, line 1)",
     "output_type": "error",
     "traceback": [
      "\u001b[0;36m  File \u001b[0;32m\"<ipython-input-7-6843986d37ae>\"\u001b[0;36m, line \u001b[0;32m1\u001b[0m\n\u001b[0;31m    mean fvd is 955.29\u001b[0m\n\u001b[0m           ^\u001b[0m\n\u001b[0;31mSyntaxError\u001b[0m\u001b[0;31m:\u001b[0m invalid syntax\n"
     ]
    }
   ],
   "source": [
    "mean fvd is 955.29"
   ]
  },
  {
   "cell_type": "code",
   "execution_count": 35,
   "metadata": {},
   "outputs": [
    {
     "data": {
      "text/plain": [
       "(100, 16, 64, 64, 3)"
      ]
     },
     "execution_count": 35,
     "metadata": {},
     "output_type": "execute_result"
    }
   ],
   "source": [
    "np.array(originals).shape"
   ]
  },
  {
   "cell_type": "markdown",
   "metadata": {},
   "source": [
    "### video inbetweening"
   ]
  },
  {
   "cell_type": "code",
   "execution_count": 16,
   "metadata": {},
   "outputs": [],
   "source": [
    "from os import listdir\n",
    "from os.path import isfile, join\n",
    "mypath = '/home/xih108/Video_Completion/dataset/MITD/eruption/'\n",
    "onlyfiles = [f for f in listdir(mypath) if isfile(join(mypath, f))]"
   ]
  },
  {
   "cell_type": "code",
   "execution_count": 17,
   "metadata": {},
   "outputs": [],
   "source": [
    "import pickle\n",
    "\n",
    "file = open(mypath + 'preds.p', 'rb')\n",
    "preds = pickle.load(file)\n"
   ]
  },
  {
   "cell_type": "code",
   "execution_count": 19,
   "metadata": {},
   "outputs": [],
   "source": [
    "path = \"/home/xih108/Video_Completion/dataset/MITD/\"\n",
    "\n",
    "stats_gen = []\n",
    "stats_inter = []\n",
    "generate = []\n",
    "for i in range(100):\n",
    "    generate += [np.repeat(preds[i],3).reshape((16,64,64,3))]\n",
    "    stats_gen += [L2Difference(originals[i][1:15], generate[i][1:15])]\n",
    "    stats_inter += [L2Difference(originals[i][1:15], interpolated[i][1:15])]\n",
    "#     for frame in range(16):\n",
    "#         imageio.imwrite(path+'erupt_original/' +str(i) + \"_\"+str(frame)+\".png\",originals[i][frame])\n",
    "#         imageio.imwrite(path+'erupt_interpolate/'+str(i) +\"_\"+str(frame)+\".png\",interpolated[i][frame])\n",
    "#         imageio.imwrite(path+'erupt_generate/' +str(i) +\"_\"+ str(frame)+\".png\",generate[i][frame])"
   ]
  },
  {
   "cell_type": "code",
   "execution_count": 20,
   "metadata": {},
   "outputs": [
    {
     "name": "stdout",
     "output_type": "stream",
     "text": [
      "32054.979665198774\n",
      "12993.875112671085\n"
     ]
    }
   ],
   "source": [
    "print(np.mean(stats_gen))\n",
    "print(np.std(stats_gen))"
   ]
  },
  {
   "cell_type": "code",
   "execution_count": 22,
   "metadata": {},
   "outputs": [
    {
     "name": "stdout",
     "output_type": "stream",
     "text": [
      "3219.599211445131\n",
      "2958.21899589295\n"
     ]
    }
   ],
   "source": [
    "print(np.mean(stats_inter))\n",
    "print(np.std(stats_inter))"
   ]
  },
  {
   "cell_type": "code",
   "execution_count": 23,
   "metadata": {},
   "outputs": [],
   "source": [
    "# coding=utf-8\n",
    "# Copyright 2020 The Google Research Authors.\n",
    "#\n",
    "# Licensed under the Apache License, Version 2.0 (the \"License\");\n",
    "# you may not use this file except in compliance with the License.\n",
    "# You may obtain a copy of the License at\n",
    "#\n",
    "#     http://www.apache.org/licenses/LICENSE-2.0\n",
    "#\n",
    "# Unless required by applicable law or agreed to in writing, software\n",
    "# distributed under the License is distributed on an \"AS IS\" BASIS,\n",
    "# WITHOUT WARRANTIES OR CONDITIONS OF ANY KIND, either express or implied.\n",
    "# See the License for the specific language governing permissions and\n",
    "# limitations under the License.\n",
    "\n",
    "\"\"\"Example code that computes FVD for some empty frames.\n",
    "The FVD for this setup should be around 131.\n",
    "\"\"\"\n",
    "\n",
    "from __future__ import absolute_import\n",
    "from __future__ import division\n",
    "from __future__ import print_function\n",
    "\n",
    "import tensorflow.compat.v1 as tf\n",
    "import frechet_video_distance as fvd\n",
    "\n",
    "# Number of videos must be divisible by 16.\n",
    "NUMBER_OF_VIDEOS = len(originals)\n",
    "VIDEO_LENGTH = 15\n",
    "batch_size = 16\n",
    "\n",
    "def loop(idx):\n",
    "\n",
    "      with tf.Graph().as_default():\n",
    "    \n",
    "        video_set1 = tf.convert_to_tensor(np.array(originals[idx*batch_size:(idx+1)*batch_size]), dtype=tf.float32)\n",
    "        video_set2 = tf.convert_to_tensor(np.array(interpolated[idx*batch_size:(idx+1)*batch_size]), dtype=tf.float32)\n",
    "        video_set3 = tf.convert_to_tensor(np.array(generate[idx*batch_size:(idx+1)*batch_size]), dtype=tf.float32)\n",
    "  \n",
    "        first_set_of_videos = video_set1[:,1:15]\n",
    "        second_set_of_videos = video_set2[:,1:15]\n",
    "        third_set_of_videos = video_set3[:,1:15]\n",
    "\n",
    "\n",
    "        result_inter = fvd.calculate_fvd(\n",
    "            fvd.create_id3_embedding(fvd.preprocess(first_set_of_videos,\n",
    "                                                    (224, 224))),\n",
    "            fvd.create_id3_embedding(fvd.preprocess(second_set_of_videos,\n",
    "                                                    (224, 224))))\n",
    "        result_gen = fvd.calculate_fvd(\n",
    "            fvd.create_id3_embedding(fvd.preprocess(first_set_of_videos,\n",
    "                                                    (224, 224))),\n",
    "            fvd.create_id3_embedding(fvd.preprocess(third_set_of_videos,\n",
    "                                                    (224, 224))))\n",
    "\n",
    "        with tf.Session() as sess:\n",
    "              sess.run(tf.global_variables_initializer())\n",
    "              sess.run(tf.tables_initializer())\n",
    "              print(\"FVD is: %.2f.\" % sess.run(result_inter))\n",
    "              print(\"FVD is: %.2f.\" % sess.run(result_gen))\n",
    "              "
   ]
  },
  {
   "cell_type": "code",
   "execution_count": 24,
   "metadata": {},
   "outputs": [
    {
     "name": "stdout",
     "output_type": "stream",
     "text": [
      "INFO:tensorflow:Saver not created because there are no variables in the graph to restore\n"
     ]
    },
    {
     "name": "stderr",
     "output_type": "stream",
     "text": [
      "INFO:tensorflow:Saver not created because there are no variables in the graph to restore\n"
     ]
    },
    {
     "name": "stdout",
     "output_type": "stream",
     "text": [
      "INFO:tensorflow:Saver not created because there are no variables in the graph to restore\n"
     ]
    },
    {
     "name": "stderr",
     "output_type": "stream",
     "text": [
      "INFO:tensorflow:Saver not created because there are no variables in the graph to restore\n"
     ]
    },
    {
     "name": "stdout",
     "output_type": "stream",
     "text": [
      "INFO:tensorflow:Saver not created because there are no variables in the graph to restore\n"
     ]
    },
    {
     "name": "stderr",
     "output_type": "stream",
     "text": [
      "INFO:tensorflow:Saver not created because there are no variables in the graph to restore\n"
     ]
    },
    {
     "name": "stdout",
     "output_type": "stream",
     "text": [
      "INFO:tensorflow:Saver not created because there are no variables in the graph to restore\n"
     ]
    },
    {
     "name": "stderr",
     "output_type": "stream",
     "text": [
      "INFO:tensorflow:Saver not created because there are no variables in the graph to restore\n"
     ]
    },
    {
     "name": "stdout",
     "output_type": "stream",
     "text": [
      "FVD is: 938.12.\n",
      "FVD is: 1274.82.\n"
     ]
    }
   ],
   "source": [
    "loop(0)"
   ]
  },
  {
   "cell_type": "code",
   "execution_count": 25,
   "metadata": {},
   "outputs": [
    {
     "name": "stdout",
     "output_type": "stream",
     "text": [
      "INFO:tensorflow:Saver not created because there are no variables in the graph to restore\n"
     ]
    },
    {
     "name": "stderr",
     "output_type": "stream",
     "text": [
      "INFO:tensorflow:Saver not created because there are no variables in the graph to restore\n"
     ]
    },
    {
     "name": "stdout",
     "output_type": "stream",
     "text": [
      "INFO:tensorflow:Saver not created because there are no variables in the graph to restore\n"
     ]
    },
    {
     "name": "stderr",
     "output_type": "stream",
     "text": [
      "INFO:tensorflow:Saver not created because there are no variables in the graph to restore\n"
     ]
    },
    {
     "name": "stdout",
     "output_type": "stream",
     "text": [
      "INFO:tensorflow:Saver not created because there are no variables in the graph to restore\n"
     ]
    },
    {
     "name": "stderr",
     "output_type": "stream",
     "text": [
      "INFO:tensorflow:Saver not created because there are no variables in the graph to restore\n"
     ]
    },
    {
     "name": "stdout",
     "output_type": "stream",
     "text": [
      "INFO:tensorflow:Saver not created because there are no variables in the graph to restore\n"
     ]
    },
    {
     "name": "stderr",
     "output_type": "stream",
     "text": [
      "INFO:tensorflow:Saver not created because there are no variables in the graph to restore\n"
     ]
    },
    {
     "name": "stdout",
     "output_type": "stream",
     "text": [
      "FVD is: 554.61.\n",
      "FVD is: 1222.08.\n"
     ]
    }
   ],
   "source": [
    "loop(1)"
   ]
  },
  {
   "cell_type": "code",
   "execution_count": 26,
   "metadata": {},
   "outputs": [
    {
     "name": "stdout",
     "output_type": "stream",
     "text": [
      "INFO:tensorflow:Saver not created because there are no variables in the graph to restore\n"
     ]
    },
    {
     "name": "stderr",
     "output_type": "stream",
     "text": [
      "INFO:tensorflow:Saver not created because there are no variables in the graph to restore\n"
     ]
    },
    {
     "name": "stdout",
     "output_type": "stream",
     "text": [
      "INFO:tensorflow:Saver not created because there are no variables in the graph to restore\n"
     ]
    },
    {
     "name": "stderr",
     "output_type": "stream",
     "text": [
      "INFO:tensorflow:Saver not created because there are no variables in the graph to restore\n"
     ]
    },
    {
     "name": "stdout",
     "output_type": "stream",
     "text": [
      "INFO:tensorflow:Saver not created because there are no variables in the graph to restore\n"
     ]
    },
    {
     "name": "stderr",
     "output_type": "stream",
     "text": [
      "INFO:tensorflow:Saver not created because there are no variables in the graph to restore\n"
     ]
    },
    {
     "name": "stdout",
     "output_type": "stream",
     "text": [
      "INFO:tensorflow:Saver not created because there are no variables in the graph to restore\n"
     ]
    },
    {
     "name": "stderr",
     "output_type": "stream",
     "text": [
      "INFO:tensorflow:Saver not created because there are no variables in the graph to restore\n"
     ]
    },
    {
     "name": "stdout",
     "output_type": "stream",
     "text": [
      "FVD is: 544.68.\n",
      "FVD is: 1105.75.\n"
     ]
    }
   ],
   "source": [
    "loop(2)"
   ]
  },
  {
   "cell_type": "code",
   "execution_count": 27,
   "metadata": {},
   "outputs": [
    {
     "name": "stdout",
     "output_type": "stream",
     "text": [
      "INFO:tensorflow:Saver not created because there are no variables in the graph to restore\n"
     ]
    },
    {
     "name": "stderr",
     "output_type": "stream",
     "text": [
      "INFO:tensorflow:Saver not created because there are no variables in the graph to restore\n"
     ]
    },
    {
     "name": "stdout",
     "output_type": "stream",
     "text": [
      "INFO:tensorflow:Saver not created because there are no variables in the graph to restore\n"
     ]
    },
    {
     "name": "stderr",
     "output_type": "stream",
     "text": [
      "INFO:tensorflow:Saver not created because there are no variables in the graph to restore\n"
     ]
    },
    {
     "name": "stdout",
     "output_type": "stream",
     "text": [
      "INFO:tensorflow:Saver not created because there are no variables in the graph to restore\n"
     ]
    },
    {
     "name": "stderr",
     "output_type": "stream",
     "text": [
      "INFO:tensorflow:Saver not created because there are no variables in the graph to restore\n"
     ]
    },
    {
     "name": "stdout",
     "output_type": "stream",
     "text": [
      "INFO:tensorflow:Saver not created because there are no variables in the graph to restore\n"
     ]
    },
    {
     "name": "stderr",
     "output_type": "stream",
     "text": [
      "INFO:tensorflow:Saver not created because there are no variables in the graph to restore\n"
     ]
    },
    {
     "name": "stdout",
     "output_type": "stream",
     "text": [
      "FVD is: 885.28.\n",
      "FVD is: 1586.23.\n"
     ]
    }
   ],
   "source": [
    "loop(3)"
   ]
  },
  {
   "cell_type": "code",
   "execution_count": 28,
   "metadata": {},
   "outputs": [
    {
     "name": "stdout",
     "output_type": "stream",
     "text": [
      "INFO:tensorflow:Saver not created because there are no variables in the graph to restore\n"
     ]
    },
    {
     "name": "stderr",
     "output_type": "stream",
     "text": [
      "INFO:tensorflow:Saver not created because there are no variables in the graph to restore\n"
     ]
    },
    {
     "name": "stdout",
     "output_type": "stream",
     "text": [
      "INFO:tensorflow:Saver not created because there are no variables in the graph to restore\n"
     ]
    },
    {
     "name": "stderr",
     "output_type": "stream",
     "text": [
      "INFO:tensorflow:Saver not created because there are no variables in the graph to restore\n"
     ]
    },
    {
     "name": "stdout",
     "output_type": "stream",
     "text": [
      "INFO:tensorflow:Saver not created because there are no variables in the graph to restore\n"
     ]
    },
    {
     "name": "stderr",
     "output_type": "stream",
     "text": [
      "INFO:tensorflow:Saver not created because there are no variables in the graph to restore\n"
     ]
    },
    {
     "name": "stdout",
     "output_type": "stream",
     "text": [
      "INFO:tensorflow:Saver not created because there are no variables in the graph to restore\n"
     ]
    },
    {
     "name": "stderr",
     "output_type": "stream",
     "text": [
      "INFO:tensorflow:Saver not created because there are no variables in the graph to restore\n"
     ]
    },
    {
     "name": "stdout",
     "output_type": "stream",
     "text": [
      "FVD is: 459.44.\n",
      "FVD is: 1112.07.\n"
     ]
    }
   ],
   "source": [
    "loop(4)"
   ]
  },
  {
   "cell_type": "code",
   "execution_count": 29,
   "metadata": {},
   "outputs": [
    {
     "name": "stdout",
     "output_type": "stream",
     "text": [
      "INFO:tensorflow:Saver not created because there are no variables in the graph to restore\n"
     ]
    },
    {
     "name": "stderr",
     "output_type": "stream",
     "text": [
      "INFO:tensorflow:Saver not created because there are no variables in the graph to restore\n"
     ]
    },
    {
     "name": "stdout",
     "output_type": "stream",
     "text": [
      "INFO:tensorflow:Saver not created because there are no variables in the graph to restore\n"
     ]
    },
    {
     "name": "stderr",
     "output_type": "stream",
     "text": [
      "INFO:tensorflow:Saver not created because there are no variables in the graph to restore\n"
     ]
    },
    {
     "name": "stdout",
     "output_type": "stream",
     "text": [
      "INFO:tensorflow:Saver not created because there are no variables in the graph to restore\n"
     ]
    },
    {
     "name": "stderr",
     "output_type": "stream",
     "text": [
      "INFO:tensorflow:Saver not created because there are no variables in the graph to restore\n"
     ]
    },
    {
     "name": "stdout",
     "output_type": "stream",
     "text": [
      "INFO:tensorflow:Saver not created because there are no variables in the graph to restore\n"
     ]
    },
    {
     "name": "stderr",
     "output_type": "stream",
     "text": [
      "INFO:tensorflow:Saver not created because there are no variables in the graph to restore\n"
     ]
    },
    {
     "name": "stdout",
     "output_type": "stream",
     "text": [
      "FVD is: 390.55.\n",
      "FVD is: 1139.41.\n"
     ]
    }
   ],
   "source": [
    "loop(5)"
   ]
  },
  {
   "cell_type": "code",
   "execution_count": 30,
   "metadata": {},
   "outputs": [
    {
     "data": {
      "text/plain": [
       "628.78"
      ]
     },
     "execution_count": 30,
     "metadata": {},
     "output_type": "execute_result"
    }
   ],
   "source": [
    "(938.12 + 554.61 + 544.68 + 885.28 + 459.44 + 390.55)/ 6"
   ]
  },
  {
   "cell_type": "code",
   "execution_count": 31,
   "metadata": {},
   "outputs": [
    {
     "data": {
      "text/plain": [
       "1240.0599999999997"
      ]
     },
     "execution_count": 31,
     "metadata": {},
     "output_type": "execute_result"
    }
   ],
   "source": [
    "(1274.82 + 1222.08+1105.75 +1586.23 + 1112.07 +1139.41) / 6"
   ]
  },
  {
   "cell_type": "code",
   "execution_count": null,
   "metadata": {},
   "outputs": [],
   "source": [
    "1,260.19"
   ]
  }
 ],
 "metadata": {
  "kernelspec": {
   "display_name": "Python 3",
   "language": "python",
   "name": "python3"
  },
  "language_info": {
   "codemirror_mode": {
    "name": "ipython",
    "version": 3
   },
   "file_extension": ".py",
   "mimetype": "text/x-python",
   "name": "python",
   "nbconvert_exporter": "python",
   "pygments_lexer": "ipython3",
   "version": "3.7.6"
  }
 },
 "nbformat": 4,
 "nbformat_minor": 4
}
