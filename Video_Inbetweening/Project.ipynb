{
 "cells": [
  {
   "cell_type": "code",
   "execution_count": 6,
   "metadata": {},
   "outputs": [],
   "source": [
    "import os \n",
    "import numpy as np\n",
    "from src.utils import *\n",
    "import tensorflow as tf\n",
    "#os.chdir('Video_Inbetweening/src')"
   ]
  },
  {
   "cell_type": "code",
   "execution_count": 2,
   "metadata": {},
   "outputs": [],
   "source": [
    "data_path = \"data/MITD/\"\n",
    "f = open(data_path + \"eruption_val.txt\", \"r\")\n",
    "testfiles = f.readlines()"
   ]
  },
  {
   "cell_type": "code",
   "execution_count": 4,
   "metadata": {},
   "outputs": [],
   "source": [
    "checkpoint_dir = \"../models/KTH_MCNET_gpu_id=0_image_size=64_K=2_T=14_batch_size=32_alpha=1.0_beta=0.02_lr=0.0001_num_layer=15/\"\n",
    "test_model = \"MCNET.model-9252.data-00000-of-00001\""
   ]
  },
  {
   "cell_type": "code",
   "execution_count": 7,
   "metadata": {},
   "outputs": [
    {
     "ename": "NameError",
     "evalue": "name 'gpu' is not defined",
     "output_type": "error",
     "traceback": [
      "\u001b[0;31m---------------------------------------------------------------------------\u001b[0m",
      "\u001b[0;31mNameError\u001b[0m                                 Traceback (most recent call last)",
      "\u001b[0;32m<ipython-input-7-894f3cd3a8c0>\u001b[0m in \u001b[0;36m<module>\u001b[0;34m\u001b[0m\n\u001b[1;32m      3\u001b[0m \u001b[0mT\u001b[0m \u001b[0;34m=\u001b[0m \u001b[0;36m20\u001b[0m\u001b[0;34m\u001b[0m\u001b[0;34m\u001b[0m\u001b[0m\n\u001b[1;32m      4\u001b[0m \u001b[0;34m\u001b[0m\u001b[0m\n\u001b[0;32m----> 5\u001b[0;31m \u001b[0;32mwith\u001b[0m \u001b[0mtf\u001b[0m\u001b[0;34m.\u001b[0m\u001b[0mdevice\u001b[0m\u001b[0;34m(\u001b[0m\u001b[0;34m\"/gpu:%d\"\u001b[0m \u001b[0;34m%\u001b[0m \u001b[0mgpu\u001b[0m\u001b[0;34m[\u001b[0m\u001b[0;36m0\u001b[0m\u001b[0;34m]\u001b[0m\u001b[0;34m)\u001b[0m\u001b[0;34m:\u001b[0m\u001b[0;34m\u001b[0m\u001b[0;34m\u001b[0m\u001b[0m\n\u001b[0m\u001b[1;32m      6\u001b[0m     model = MCNET(image_size=[image_size, image_size], batch_size=1, K=K,\n\u001b[1;32m      7\u001b[0m                   \u001b[0mT\u001b[0m\u001b[0;34m=\u001b[0m\u001b[0mT\u001b[0m\u001b[0;34m,\u001b[0m \u001b[0mc_dim\u001b[0m\u001b[0;34m=\u001b[0m\u001b[0mc_dim\u001b[0m\u001b[0;34m,\u001b[0m \u001b[0mcheckpoint_dir\u001b[0m\u001b[0;34m=\u001b[0m\u001b[0mcheckpoint_dir\u001b[0m\u001b[0;34m,\u001b[0m\u001b[0;34m\u001b[0m\u001b[0;34m\u001b[0m\u001b[0m\n",
      "\u001b[0;31mNameError\u001b[0m: name 'gpu' is not defined"
     ]
    }
   ],
   "source": [
    "image_size = 64\n",
    "K = 10\n",
    "T = 20\n",
    "\n",
    "with tf.device(\"/gpu:%d\" % gpu[0]):\n",
    "    model = MCNET(image_size=[image_size, image_size], batch_size=1, K=K,\n",
    "                  T=T, c_dim=c_dim, checkpoint_dir=checkpoint_dir,\n",
    "                  is_train=False)"
   ]
  },
  {
   "cell_type": "code",
   "execution_count": 12,
   "metadata": {},
   "outputs": [],
   "source": [
    "mini_batches = get_minibatches_idx(len(trainfiles),\n",
    "                                   32,\n",
    "                                   shuffle=True)"
   ]
  },
  {
   "cell_type": "code",
   "execution_count": 17,
   "metadata": {},
   "outputs": [
    {
     "data": {
      "text/plain": [
       "array(['person03_running_d4 84 116\\n', 'person04_handclapping_d1 1 106\\n',\n",
       "       'person14_handwaving_d1 306 445\\n',\n",
       "       'person07_walking_d4 171 250\\n', 'person04_boxing_d4 1 88\\n',\n",
       "       'person12_handwaving_d3 1 178\\n', 'person03_running_d4 135 172\\n',\n",
       "       'person01_running_d1 98 121\\n', 'person10_handwaving_d3 1 110\\n',\n",
       "       'person16_jogging_d1 253 288\\n', 'person03_walking_d1 16 95\\n',\n",
       "       'person16_running_d4 199 224\\n', 'person14_boxing_d4 313 435\\n',\n",
       "       'person11_jogging_d2 130 191\\n', 'person03_running_d2 963 1023\\n',\n",
       "       'person14_boxing_d2 155 264\\n', 'person16_jogging_d3 301 334\\n',\n",
       "       'person10_handclapping_d4 1 92\\n', 'person01_jogging_d1 258 295\\n',\n",
       "       'person05_running_d2 6 39\\n', 'person06_running_d1 252 276\\n',\n",
       "       'person12_handclapping_d1 221 316\\n',\n",
       "       'person08_handclapping_d3 210 314\\n',\n",
       "       'person10_running_d3 204 225\\n', 'person07_running_d1 284 306\\n',\n",
       "       'person14_jogging_d2 175 228\\n', 'person06_walking_d4 398 459\\n',\n",
       "       'person05_walking_d2 575 664\\n', 'person01_running_d4 7 36\\n',\n",
       "       'person04_running_d4 128 158\\n', 'person16_walking_d1 178 248\\n',\n",
       "       'person06_handwaving_d3 1 108\\n'], dtype='<U33')"
      ]
     },
     "execution_count": 17,
     "metadata": {},
     "output_type": "execute_result"
    }
   ],
   "source": [
    "_, batchidx = next(mini_batches)\n",
    "np.array(trainfiles)[batchidx]"
   ]
  },
  {
   "cell_type": "code",
   "execution_count": 18,
   "metadata": {},
   "outputs": [],
   "source": [
    "tokens = trainfiles[0].split()"
   ]
  },
  {
   "cell_type": "code",
   "execution_count": 19,
   "metadata": {},
   "outputs": [
    {
     "data": {
      "text/plain": [
       "['person01_boxing_d1', '1', '95']"
      ]
     },
     "execution_count": 19,
     "metadata": {},
     "output_type": "execute_result"
    }
   ],
   "source": [
    "tokens"
   ]
  },
  {
   "cell_type": "code",
   "execution_count": null,
   "metadata": {},
   "outputs": [],
   "source": []
  }
 ],
 "metadata": {
  "kernelspec": {
   "display_name": "Python 3",
   "language": "python",
   "name": "python3"
  },
  "language_info": {
   "codemirror_mode": {
    "name": "ipython",
    "version": 3
   },
   "file_extension": ".py",
   "mimetype": "text/x-python",
   "name": "python",
   "nbconvert_exporter": "python",
   "pygments_lexer": "ipython3",
   "version": "3.7.6"
  }
 },
 "nbformat": 4,
 "nbformat_minor": 4
}
