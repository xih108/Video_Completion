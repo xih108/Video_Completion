{
  "nbformat": 4,
  "nbformat_minor": 0,
  "metadata": {
    "colab": {
      "name": "BAIR Inbetweening TF-Hub Module.ipynb",
      "private_outputs": true,
      "provenance": [],
      "collapsed_sections": [
        "Q4DN769E2O_R"
      ]
    },
    "kernelspec": {
      "display_name": "Python 3",
      "name": "python3"
    },
    "accelerator": "GPU"
  },
  "cells": [
    {
      "cell_type": "markdown",
      "metadata": {
        "id": "oKAkxAYuONU6"
      },
      "source": [
        "# Video Inbetweening using 3D Convolutions\n"
      ]
    },
    {
      "cell_type": "markdown",
      "metadata": {
        "id": "cvMgkVIBpT-Y"
      },
      "source": [
        "Yunpeng Li, Dominik Roblek, and Marco Tagliasacchi. From Here to There: Video Inbetweening Using Direct 3D Convolutions, 2019.\n",
        "\n",
        "https://arxiv.org/abs/1905.10240\n"
      ]
    },
    {
      "cell_type": "markdown",
      "metadata": {
        "id": "Q4DN769E2O_R"
      },
      "source": [
        "## Setup"
      ]
    },
    {
      "cell_type": "code",
      "metadata": {
        "id": "GhIKakhc7JYL"
      },
      "source": [
        "import tensorflow as tf\n",
        "\n",
        "import matplotlib.pyplot as plt\n",
        "import numpy as np\n",
        "import seaborn as sns\n",
        "import tensorflow_hub as hub\n",
        "import tensorflow_datasets as tfds\n",
        "\n",
        "from tensorflow_datasets.core import SplitGenerator\n",
        "from tensorflow_datasets.video.bair_robot_pushing import BairRobotPushingSmall\n",
        "\n",
        "import tempfile\n",
        "import pathlib"
      ],
      "execution_count": null,
      "outputs": []
    },
    {
      "cell_type": "markdown",
      "metadata": {
        "id": "w0FFhkikQABy"
      },
      "source": [
        "### Load Hub Module"
      ]
    },
    {
      "cell_type": "code",
      "metadata": {
        "id": "cLAUiWfEQAB5"
      },
      "source": [
        "hub_handle = 'https://tfhub.dev/google/tweening_conv3d_kth/1'\n",
        "module = hub.load(hub_handle).signatures['default']"
      ],
      "execution_count": null,
      "outputs": []
    },
    {
      "cell_type": "markdown",
      "metadata": {
        "id": "PVHTdXnhbGsK"
      },
      "source": [
        "### Generate and show the videos"
      ]
    },
    {
      "cell_type": "code",
      "metadata": {
        "id": "eTKulzZosZNd"
      },
      "source": [
        "def ito1(image):\n",
        "    return image[..., 0:1]\n",
        "def ito3(image):\n",
        "    return np.concatenate((image, image, image), -1)\n",
        "def vto1(video):\n",
        "    return [ito1(frame) for frame in video]\n",
        "def vto3(video):\n",
        "    return [ito3(frame) for frame in video]\n",
        "\n",
        "def read_video(path):\n",
        "    reader = imageio.get_reader(path)\n",
        "\n",
        "    fps = reader.get_meta_data()['fps']\n",
        "    driving_video = []\n",
        "    try:\n",
        "        for im in reader:\n",
        "            driving_video.append(im)\n",
        "    except RuntimeError:\n",
        "        pass\n",
        "    reader.close()\n",
        "    \n",
        "    return fps, [resize(frame, (64, 64))[..., :3] for frame in driving_video]"
      ],
      "execution_count": null,
      "outputs": []
    },
    {
      "cell_type": "code",
      "metadata": {
        "id": "peP3ARhqsrjU"
      },
      "source": [
        "from google.colab import drive\n",
        "drive.mount('/content/drive')"
      ],
      "execution_count": null,
      "outputs": []
    },
    {
      "cell_type": "code",
      "metadata": {
        "id": "u2unWpresk5j"
      },
      "source": [
        "import os\n",
        "import imageio\n",
        "from skimage.transform import resize\n",
        "from tqdm import tqdm\n",
        "\n",
        "test_dir = 'drive/MyDrive/test_kth/'\n",
        "testfiles = [test_dir + f for f in os.listdir(test_dir)]\n",
        "testfiles.sort()"
      ],
      "execution_count": null,
      "outputs": []
    },
    {
      "cell_type": "code",
      "metadata": {
        "id": "Mr9vnhLOs-Lo"
      },
      "source": [
        "from skimage import img_as_ubyte\n",
        "import numpy as np \n",
        "input_framess = [] \n",
        "\n",
        "for f in tqdm(testfiles):\n",
        "    input_frames = np.zeros((2, 64, 64, 3))\n",
        "    fps, video = read_video(f)\n",
        "    input_frames[0] = img_as_ubyte(video[0])\n",
        "    input_frames[1] = img_as_ubyte(video[1])\n",
        "    input_framess.append(input_frames)"
      ],
      "execution_count": null,
      "outputs": []
    },
    {
      "cell_type": "code",
      "metadata": {
        "id": "KWBrrEgn2wRE"
      },
      "source": [
        "import cv2\n",
        "from tqdm import tqdm, trange\n",
        "import imageio\n",
        "import tensorflow as tf\n",
        "\n",
        "k = 0\n",
        "num_batch = len(input_framess) // 16\n",
        "for it in trange(num_batch):\n",
        "    input_frames = np.stack(input_framess[it*16:(it+1)*16], 0)\n",
        "    input_frames = tf.cast(tf.convert_to_tensor(input_frames), tf.float32)\n",
        "    filled_frames = module(input_frames)['default']\n",
        "\n",
        "    frames = np.zeros((16, 16, 128, 128, 3))\n",
        "    for i in range(16):\n",
        "        frames[i, 0] = cv2.resize(input_frames[i, 0].numpy(), dsize=(128, 128))\n",
        "        frames[i, -1] = cv2.resize(input_frames[i, -1].numpy(), dsize=(128, 128))\n",
        "        for j in range(1, 15):\n",
        "            frames[i, j] = cv2.resize(filled_frames[i, j-1].numpy(), dsize=(128, 128))\n",
        "    frames = np.around(frames).astype(np.uint8)\n",
        "    \n",
        "    for i in range(16):\n",
        "        sk = str(k).zfill(3)\n",
        "        imageio.mimsave(f'drive/MyDrive/videos/{sk}.mp4', frames[i])\n",
        "        k += 1"
      ],
      "execution_count": null,
      "outputs": []
    },
    {
      "cell_type": "code",
      "metadata": {
        "id": "LpYvGSURCgjO"
      },
      "source": [
        "left = len(input_framess) % 16\n",
        "\n",
        "input_frames = np.stack(input_framess[-16:], 0)\n",
        "input_frames = tf.cast(tf.convert_to_tensor(input_frames), tf.float32)\n",
        "filled_frames = module(input_frames)['default'][-left:]\n",
        "\n",
        "frames = np.zeros((left, 16, 128, 128, 3))\n",
        "for i in range(left):\n",
        "    frames[i, 0] = cv2.resize(input_frames[i, 0].numpy(), dsize=(128, 128))\n",
        "    frames[i, -1] = cv2.resize(input_frames[i, -1].numpy(), dsize=(128, 128))\n",
        "    for j in range(1, 15):\n",
        "        frames[i, j] = cv2.resize(filled_frames[i, j-1].numpy(), dsize=(128, 128))\n",
        "frames = np.around(frames).astype(np.uint8)\n",
        "    \n",
        "for i in range(left):\n",
        "    sk = str(k).zfill(3)\n",
        "    imageio.mimsave(f'drive/MyDrive/videos/{sk}.mp4', frames[i])\n",
        "    k += 1"
      ],
      "execution_count": null,
      "outputs": []
    }
  ]
}