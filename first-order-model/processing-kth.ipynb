{
 "cells": [
  {
   "cell_type": "code",
   "execution_count": 1,
   "metadata": {},
   "outputs": [],
   "source": [
    "import os\n",
    "import sys\n",
    "\n",
    "data_path = 'kth/'\n",
    "motion_types = list(filter(lambda s: s.endswith('ing'), os.listdir(data_path)))\n",
    "video_files = {}\n",
    "for m in motion_types:\n",
    "    video_files[m] = list(filter(lambda s: s.endswith('.avi'), os.listdir(data_path + m + '/')))\n",
    "    video_files[m].sort()"
   ]
  },
  {
   "cell_type": "code",
   "execution_count": 2,
   "metadata": {},
   "outputs": [],
   "source": [
    "import imageio\n",
    "import numpy as np\n",
    "import cv2\n",
    "from PIL import Image\n",
    "\n",
    "def read_video(path):\n",
    "    reader = imageio.get_reader(path)\n",
    "\n",
    "    fps = reader.get_meta_data()['fps']\n",
    "    driving_video = []\n",
    "    try:\n",
    "        for im in reader:\n",
    "            driving_video.append(im)\n",
    "    except RuntimeError:\n",
    "        pass\n",
    "    reader.close()\n",
    "    \n",
    "    return fps, driving_video"
   ]
  },
  {
   "cell_type": "code",
   "execution_count": 6,
   "metadata": {},
   "outputs": [
    {
     "name": "stderr",
     "output_type": "stream",
     "text": [
      "100%|██████████| 100/100 [00:10<00:00,  9.80it/s]\n",
      "100%|██████████| 100/100 [00:12<00:00,  8.31it/s]\n",
      "100%|██████████| 99/99 [00:10<00:00,  9.47it/s]\n",
      "100%|██████████| 100/100 [00:15<00:00,  6.56it/s]\n",
      "100%|██████████| 100/100 [00:10<00:00,  9.40it/s]\n",
      "100%|██████████| 100/100 [00:09<00:00, 10.38it/s]\n"
     ]
    }
   ],
   "source": [
    "from tqdm import tqdm\n",
    "\n",
    "#train_dir = data_path + '128x128/train/'\n",
    "test_dir = data_path + '128x128/test2/'\n",
    "\n",
    "try:\n",
    "    #os.mkdir(data_path + '128x128')\n",
    "    #os.mkdir(train_dir)\n",
    "    os.mkdir(test_dir)\n",
    "except:\n",
    "    pass\n",
    "\n",
    "for m in motion_types:\n",
    "    for f in tqdm(video_files[m]):\n",
    "        # Read video\n",
    "        file_name = data_path + m + '/' + f\n",
    "        fps, video = read_video(file_name)\n",
    "        person = int(f[6:8])\n",
    "        #videos = breakdown(video)\n",
    "        \n",
    "        if person < 24:\n",
    "            continue\n",
    "        elif person == 24:\n",
    "            continue\n",
    "        else:\n",
    "            new_file_name = test_dir + f[:-4]\n",
    "        \n",
    "        #for i, video in enumerate(videos):\n",
    "        new_video = []\n",
    "        for frame in video:\n",
    "            frame = frame[:, 20:140]\n",
    "            frame = cv2.resize(frame, dsize=(128, 128))\n",
    "            frame = np.expand_dims(frame, 0)\n",
    "            new_video.append(frame)\n",
    "        new_video = np.concatenate(new_video, axis=0)\n",
    "        imageio.mimsave(new_file_name + str(i).zfill(2) + '.mp4', new_video, fps=fps)"
   ]
  },
  {
   "cell_type": "code",
   "execution_count": 3,
   "metadata": {},
   "outputs": [],
   "source": [
    "def breakdown(video):\n",
    "    N = len(video) // 16\n",
    "    videos = []\n",
    "    for i in range(N):\n",
    "        videos.append(video[i*16:(i+1)*16])\n",
    "    return videos"
   ]
  },
  {
   "cell_type": "code",
   "execution_count": null,
   "metadata": {},
   "outputs": [],
   "source": []
  }
 ],
 "metadata": {
  "kernelspec": {
   "display_name": "Python 3",
   "language": "python",
   "name": "python3"
  },
  "language_info": {
   "codemirror_mode": {
    "name": "ipython",
    "version": 3
   },
   "file_extension": ".py",
   "mimetype": "text/x-python",
   "name": "python",
   "nbconvert_exporter": "python",
   "pygments_lexer": "ipython3",
   "version": "3.7.6"
  }
 },
 "nbformat": 4,
 "nbformat_minor": 4
}
