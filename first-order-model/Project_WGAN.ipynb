{
  "nbformat": 4,
  "nbformat_minor": 0,
  "metadata": {
    "kernelspec": {
      "display_name": "Python 3",
      "language": "python",
      "name": "python3"
    },
    "language_info": {
      "codemirror_mode": {
        "name": "ipython",
        "version": 3
      },
      "file_extension": ".py",
      "mimetype": "text/x-python",
      "name": "python",
      "nbconvert_exporter": "python",
      "pygments_lexer": "ipython3",
      "version": "3.7.6"
    },
    "colab": {
      "name": "Project_WGAN.ipynb",
      "provenance": [],
      "collapsed_sections": [],
      "toc_visible": true,
      "machine_shape": "hm"
    },
    "accelerator": "GPU"
  },
  "cells": [
    {
      "cell_type": "code",
      "metadata": {
        "id": "9_0jhj9La6Lx"
      },
      "source": [
        "from google.colab import drive\n",
        "drive.mount(\"/content/drive\")"
      ],
      "execution_count": null,
      "outputs": []
    },
    {
      "cell_type": "code",
      "metadata": {
        "id": "wXVqmBZCay5C"
      },
      "source": [
        "%config InlineBackend.figure_format = 'retina'\n",
        "import numpy as np \n",
        "import matplotlib.pyplot as plt\n",
        "import torch\n",
        "from torch import nn\n",
        "from tqdm import tqdm\n",
        "import sys\n",
        "import torch.nn.utils.rnn as rnn_utils\n",
        "import torch.optim as optim\n",
        "import torch.autograd as autograd\n",
        "from torch.utils.data import DataLoader, Dataset"
      ],
      "execution_count": null,
      "outputs": []
    },
    {
      "cell_type": "code",
      "metadata": {
        "id": "Iw7f6N3OWqAU"
      },
      "source": [
        "import pickle\n",
        "values_train = pickle.load(open(\"values_train.p\", \"rb\"))\n",
        "jacobians_train = pickle.load(open(\"jacobians_train.p\", \"rb\"))"
      ],
      "execution_count": null,
      "outputs": []
    },
    {
      "cell_type": "code",
      "metadata": {
        "colab": {
          "base_uri": "https://localhost:8080/"
        },
        "id": "XnTiXA4Vay5D",
        "outputId": "40ea2ef8-bebb-4644-d5a0-7b49ee895dc8"
      },
      "source": [
        "device = torch.device('cpu')\n",
        "if torch.cuda.is_available():\n",
        "    print(torch.cuda.get_device_name(0))\n",
        "    device = torch.device('cuda')"
      ],
      "execution_count": null,
      "outputs": [
        {
          "output_type": "stream",
          "text": [
            "Tesla V100-SXM2-16GB\n"
          ],
          "name": "stdout"
        }
      ]
    },
    {
      "cell_type": "code",
      "metadata": {
        "id": "tDwhnk-tay5E"
      },
      "source": [
        "\"\"\"\n",
        "Hyper-params\n",
        "\"\"\"\n",
        "noise_dim = 40 # noise vector dimension\n",
        "hidden_dim = 256 # hidden dimension for both LSTM\n",
        "epochs = 3001\n",
        "lr = 1e-4\n",
        "batch_size = 8\n",
        "frame_num = 16\n",
        "dataset_frame_num = 30\n",
        "motion_dim = 60\n",
        "n_critic = 5\n",
        "clip_value = .01\n",
        "lamb = 10 # gradient penalty lambda hyperparameter"
      ],
      "execution_count": null,
      "outputs": []
    },
    {
      "cell_type": "code",
      "metadata": {
        "id": "_eMoQ9Y2ay5E"
      },
      "source": [
        "class Motion(Dataset):\n",
        "    def __init__(self, values, jacobians, jmax=None, jmin=None, random=True):\n",
        "        if jmax == None:\n",
        "            self.jmax = np.max([torch.max(j) for j in jacobians])\n",
        "        else:\n",
        "            self.jmax = jmax\n",
        "        if jmin == None:\n",
        "            self.jmin = np.min([torch.min(j) for j in jacobians])\n",
        "        else:\n",
        "            self.jmin = jmin\n",
        "        self.data  = []\n",
        "        for i, j in enumerate(jacobians):\n",
        "            j = (j - self.jmin) / (self.jmax - self.jmin) * 2 - 1\n",
        "            j = j.view(len(j), -1)\n",
        "            v = values[i]\n",
        "            v = v.view(len(v), -1)\n",
        "            self.data.append(torch.cat((v, j), 1))\n",
        "        self.random = random\n",
        "            \n",
        "    def __len__(self):\n",
        "        return len(self.data)\n",
        "\n",
        "    def __getitem__(self, idx):\n",
        "        if self.random:\n",
        "            # Draw random frame_num continuous frames\n",
        "            start = np.random.randint(dataset_frame_num - frame_num) \n",
        "            end = start + frame_num\n",
        "            return self.data[idx][start:end]\n",
        "        else:\n",
        "            return self.data[idx][:frame_num]"
      ],
      "execution_count": null,
      "outputs": []
    },
    {
      "cell_type": "code",
      "metadata": {
        "id": "EDQc2j2qay5E"
      },
      "source": [
        "class GRUGenerator(nn.Module):\n",
        "    \"\"\"\n",
        "    A Bi-GRU based generator. \n",
        "    It expects a sequence of noise vectors + start frame + final frame as input\n",
        "    Args:\n",
        "        in_dim: noise / e(start) / e(final) dimensionality\n",
        "        out_dim: output dimensionality\n",
        "        n_layers: number of gru layers\n",
        "        hidden_dim: dimensionality of the hidden layer of grus\n",
        "    Input: noise of shape (batch_size, seq_len, in_dim)\n",
        "    Output: sequences of shape (batch_size, seq_len, out_dim)\n",
        "    \"\"\"\n",
        "\n",
        "    def __init__(self, in_dim=noise_dim, out_dim=motion_dim, n_layers=1, hidden_dim=hidden_dim):\n",
        "        super().__init__()\n",
        "        self.n_layers = n_layers\n",
        "        self.hidden_dim = hidden_dim\n",
        "        self.out_dim = out_dim\n",
        "\n",
        "        self.motion_encoder = nn.Sequential(nn.Linear(out_dim, in_dim), nn.ReLU())\n",
        "        self.gru = nn.GRU(in_dim * 3, hidden_dim, n_layers, batch_first=True, bidirectional=True)\n",
        "        self.linear = nn.Sequential(nn.Linear(hidden_dim * 2, out_dim), nn.Tanh())\n",
        "\n",
        "    def forward(self, noise, start, final):\n",
        "        batch_size, seq_len = noise.size(0), noise.size(1)\n",
        "        h_0 = torch.zeros(self.n_layers * 2, batch_size, self.hidden_dim).to(device)\n",
        "        \n",
        "        # Encode first and final images\n",
        "        e_start = self.motion_encoder(start).unsqueeze(1).repeat(1, frame_num, 1)\n",
        "        e_final = self.motion_encoder(final).unsqueeze(1).repeat(1, frame_num, 1)\n",
        "        input = torch.cat((noise, e_start, e_final), -1)\n",
        "\n",
        "        out, _ = self.gru(input, h_0)\n",
        "        return self.linear(out)"
      ],
      "execution_count": null,
      "outputs": []
    },
    {
      "cell_type": "code",
      "metadata": {
        "id": "h4XD5S_0e25U"
      },
      "source": [
        "class GRUDiscriminator(nn.Module):\n",
        "    \"\"\"\n",
        "    A Bi-GRU based discriminator. \n",
        "    It expects a real/fake as input and outputs a probability for each timestep.\n",
        "    Args:\n",
        "        in_dim: input sequence dimensionality\n",
        "        n_layers: number of gru layers\n",
        "        hidden_dim: dimensionality of the hidden layer of grus\n",
        "        \n",
        "    Inputs: sequences of shape (batch_size, seq_len, out_dim)\n",
        "    Output: prob sequence of shape (batch_size, seq_len, 1)\n",
        "    \"\"\"\n",
        "    def __init__(self, in_dim=motion_dim, n_layers=1, hidden_dim=hidden_dim):\n",
        "        super().__init__()\n",
        "        self.n_layers = n_layers\n",
        "        self.hidden_dim = hidden_dim\n",
        "\n",
        "        self.gru = nn.GRU(in_dim, hidden_dim, n_layers, batch_first=True, bidirectional=True)\n",
        "        self.linear = nn.Linear(hidden_dim * 2, 1) # WGAN update 1: remove sigmoid\n",
        "\n",
        "    def forward(self, seqs):\n",
        "        batch_size = len(seqs)\n",
        "        h_0 = torch.zeros(self.n_layers * 2, batch_size, self.hidden_dim).to(device)\n",
        "        out, _ = self.gru(seqs, h_0)\n",
        "        return self.linear(out)"
      ],
      "execution_count": null,
      "outputs": []
    },
    {
      "cell_type": "code",
      "metadata": {
        "id": "D7T-Q4VAay5E",
        "colab": {
          "base_uri": "https://localhost:8080/"
        },
        "outputId": "b2643b4f-2918-4116-9434-95051807a121"
      },
      "source": [
        "# Setup network\n",
        "netD = GRUDiscriminator().to(device)\n",
        "print(netD)\n",
        "netG = GRUGenerator().to(device)\n",
        "print(netG)\n",
        "\n",
        "# Setup optimizer\n",
        "optimizerD = optim.RMSprop(netD.parameters(), lr=lr) # WGAN update 4: don't use momentum\n",
        "optimizerG = optim.RMSprop(netG.parameters(), lr=lr)\n",
        "\n",
        "# Setup dataloader\n",
        "train = Motion(values_train, jacobians_train)\n",
        "print(train.jmax, train.jmin)\n",
        "dataloader = DataLoader(train, batch_size, shuffle=True)"
      ],
      "execution_count": null,
      "outputs": [
        {
          "output_type": "stream",
          "text": [
            "GRUDiscriminator(\n",
            "  (gru): GRU(60, 256, batch_first=True, bidirectional=True)\n",
            "  (linear): Linear(in_features=512, out_features=1, bias=True)\n",
            ")\n",
            "GRUGenerator(\n",
            "  (motion_encoder): Sequential(\n",
            "    (0): Linear(in_features=60, out_features=40, bias=True)\n",
            "    (1): ReLU()\n",
            "  )\n",
            "  (gru): GRU(120, 256, batch_first=True, bidirectional=True)\n",
            "  (linear): Sequential(\n",
            "    (0): Linear(in_features=512, out_features=60, bias=True)\n",
            "    (1): Tanh()\n",
            "  )\n",
            ")\n",
            "10.143672 -10.052552\n"
          ],
          "name": "stdout"
        }
      ]
    },
    {
      "cell_type": "code",
      "metadata": {
        "id": "iJe2yu50sZAU"
      },
      "source": [
        "def calc_gradient_penalty(netD, real_data, fake_data):\n",
        "    alpha = torch.rand(batch_size, frame_num, 1)\n",
        "    alpha = alpha.expand(real_data.size()).to(device)\n",
        "    interpolates = (alpha * real_data + (1 - alpha) * fake_data).to(device)\n",
        "    interpolates = autograd.Variable(interpolates, requires_grad=True)\n",
        "    disc_interpolates = netD(interpolates)\n",
        "    gradients = autograd.grad(outputs=disc_interpolates, inputs=interpolates,\n",
        "                              grad_outputs=torch.ones(disc_interpolates.size()).to(device),\n",
        "                              create_graph=True, retain_graph=True)[0]\n",
        "    gradient_penalty = ((gradients.reshape(gradients.size()[0], -1).norm(2, 1) - 1) ** 2).mean() * lamb\n",
        "    return gradient_penalty"
      ],
      "execution_count": null,
      "outputs": []
    },
    {
      "cell_type": "code",
      "metadata": {
        "scrolled": false,
        "id": "YizyRdFWay5E"
      },
      "source": [
        "Dcosts, Gcosts = [], []\n",
        "\n",
        "for epoch in range(epochs):\n",
        "    Dcosts_, Gcosts_ = [], []\n",
        "\n",
        "    for it, real in tqdm(enumerate(dataloader)):\n",
        "        ############################\n",
        "        # (1) Update D network\n",
        "        ###########################\n",
        "        for p in netD.parameters():  # reset requires_grad\n",
        "            p.requires_grad = True   # they are set to False below in netG update\n",
        "\n",
        "        # Train with real data\n",
        "        netD.zero_grad()\n",
        "        real = real.to(device, dtype=torch.float)\n",
        "        Dreal = -torch.mean(netD(real))\n",
        "        Dreal.backward()\n",
        "\n",
        "        # Train with fake data\n",
        "        noise = torch.randn(len(real), frame_num, noise_dim, device=device)\n",
        "        fake = netG(noise, real[:, 0], real[:, -1]).detach()\n",
        "        Dfake = torch.mean(netD(fake))\n",
        "        Dfake.backward()\n",
        "\n",
        "        # Train with gradient penalty\n",
        "        # gradient_penalty = calc_gradient_penalty(netD, real, fake)\n",
        "        # gradient_penalty.backward()\n",
        "        \n",
        "        # Clip weights of discriminator\n",
        "        for p in netD.parameters():\n",
        "            p.data.clamp_(-clip_value, clip_value)\n",
        "        \n",
        "        Dcost = Dfake + Dreal\n",
        "        optimizerD.step()\n",
        "        \n",
        "        ############################\n",
        "        # (2) Update G network every n_critic iteration\n",
        "        ###########################\n",
        "        if it % n_critic == 0:\n",
        "            for p in netD.parameters():  # to avoid computation\n",
        "                p.requires_grad = False\n",
        "            netG.zero_grad()\n",
        "\n",
        "            noise = torch.randn(len(real), frame_num, noise_dim, device=device)\n",
        "            fake = netG(noise, real[:, 0], real[:, -1])\n",
        "            G = -torch.mean(netD(fake))\n",
        "            G.backward()\n",
        "            Gcost = G\n",
        "            optimizerG.step()\n",
        "\n",
        "        ###########################\n",
        "        # (3) Report metrics\n",
        "        ###########################\n",
        "        Dcosts_.append(Dcost.item())\n",
        "        Gcosts_.append(Gcost.item())\n",
        "\n",
        "    ##### End of the epoch #####\n",
        "    Dcosts.append(np.mean(Dcosts_))\n",
        "    Gcosts.append(np.mean(Gcosts_))\n",
        "    \n",
        "    print('[%d/%d] Loss_D: %.4f   Loss_G: %.4f\\n' \n",
        "          % (epoch, epochs, Dcosts[-1], Gcosts[-1]), end='', file=sys.stderr)\n",
        "    \n",
        "    # Checkpoint\n",
        "    if epoch % 6000 == 0:\n",
        "        torch.save({\n",
        "            'epoch': epoch,\n",
        "            'model_state_dict': netG.state_dict(),\n",
        "            'optimizer_state_dict': optimizerG.state_dict(),\n",
        "          }, f'drive/MyDrive/save3/netG_epoch_{epoch}.pth')\n",
        "        torch.save({\n",
        "            'epoch': epoch,\n",
        "            'model_state_dict': netD.state_dict(),\n",
        "            'optimizer_state_dict': optimizerD.state_dict(),\n",
        "          }, f'drive/MyDrive/save3/netD_epoch_{epoch}.pth')\n",
        "\n",
        "    with open(\"drive/MyDrive/save3/Dcosts.txt\", \"w\") as output:\n",
        "        output.write(str(Dcosts))\n",
        "    with open(\"drive/MyDrive/save3/Gcosts.txt\", \"w\") as output:\n",
        "        output.write(str(Gcosts))"
      ],
      "execution_count": null,
      "outputs": []
    },
    {
      "cell_type": "code",
      "metadata": {
        "id": "hyjU82jSay5E"
      },
      "source": [
        "plt.plot(Dcosts)\n",
        "plt.title('D Loss over time')\n",
        "plt.xlabel('iter')\n",
        "plt.ylabel('D Loss')\n",
        "plt.show()"
      ],
      "execution_count": null,
      "outputs": []
    },
    {
      "cell_type": "code",
      "metadata": {
        "id": "LhRlTN8Cay5E"
      },
      "source": [
        "plt.plot(Gcosts, color='orange')\n",
        "plt.title('G Loss over time')\n",
        "plt.xlabel('iter')\n",
        "plt.ylabel('G Loss')\n",
        "plt.show()"
      ],
      "execution_count": null,
      "outputs": []
    },
    {
      "cell_type": "markdown",
      "metadata": {
        "id": "BdRY5injCD5I"
      },
      "source": [
        "# Testing"
      ]
    },
    {
      "cell_type": "code",
      "metadata": {
        "id": "PFkgARzgAwZr"
      },
      "source": [
        "values_test = pickle.load(open(\"values_test.p\", \"rb\"))\n",
        "jacobians_test = pickle.load(open(\"jacobians_test.p\", \"rb\"))\n",
        "\n",
        "test = Motion(values_test, jacobians_test, train.jmax, train.jmin, random=False)\n",
        "testloader = DataLoader(test, batch_size, shuffle=False)"
      ],
      "execution_count": null,
      "outputs": []
    },
    {
      "cell_type": "code",
      "metadata": {
        "id": "6ZOv9AX16jUV"
      },
      "source": [
        "noise1 = torch.randn(frame_num, noise_dim, device=device)\n",
        "noise2 = torch.randn(frame_num, noise_dim, device=device)\n",
        "noise3 = torch.randn(frame_num, noise_dim, device=device)"
      ],
      "execution_count": 91,
      "outputs": []
    },
    {
      "cell_type": "code",
      "metadata": {
        "id": "Bq-m0zysB7Xg"
      },
      "source": [
        "netG.eval()\n",
        "\n",
        "values = torch.zeros((0, frame_num, 10, 2)).to(device)\n",
        "jacobians = torch.zeros((0, frame_num, 10, 2, 2)).to(device)\n",
        "\n",
        "for batch in testloader:\n",
        "    batch = batch.to(device)\n",
        "    noise = noise3.repeat((len(batch), 1, 1))\n",
        "    fake = netG(noise, batch[:, 0], batch[:, -1])\n",
        "    fake[:, 0]  = batch[:, 0]\n",
        "    fake[:, -1] = batch[:, -1]\n",
        "    value = fake[..., :20].view(len(batch), frame_num, 10, 2)\n",
        "    jacobian = fake[..., 20:].view(len(batch), frame_num, 10, 2, 2)\n",
        "    jacobian = (jacobian + 1) / 2 * (train.jmax - train.jmin) + train.jmin\n",
        "    \n",
        "    values = torch.cat((values, value), 0)\n",
        "    jacobians = torch.cat((jacobians, jacobian), 0)\n",
        "\n",
        "k = 3\n",
        "with open(f'GAN_values_{k}.npy', 'wb') as f:\n",
        "    np.save(f, values.cpu().detach().numpy())\n",
        "with open(f'GAN_jacobians_{k}.npy', 'wb') as f:\n",
        "    np.save(f, jacobians.cpu().detach().numpy())"
      ],
      "execution_count": 100,
      "outputs": []
    },
    {
      "cell_type": "code",
      "metadata": {
        "colab": {
          "base_uri": "https://localhost:8080/"
        },
        "id": "689wDtrX6qie",
        "outputId": "13323623-51d3-42bc-8118-15961e479144"
      },
      "source": [
        "values[0, 4]"
      ],
      "execution_count": 101,
      "outputs": [
        {
          "output_type": "execute_result",
          "data": {
            "text/plain": [
              "tensor([[-0.0643, -0.4482],\n",
              "        [-0.4222,  0.5108],\n",
              "        [ 0.3311, -0.5475],\n",
              "        [-0.3349,  0.3354],\n",
              "        [-0.2248,  0.0074],\n",
              "        [-0.5037,  0.2340],\n",
              "        [-0.0560,  0.8224],\n",
              "        [-0.6673, -0.3291],\n",
              "        [-0.4919,  0.3791],\n",
              "        [-0.0518,  0.3584]], device='cuda:0', grad_fn=<SelectBackward>)"
            ]
          },
          "metadata": {
            "tags": []
          },
          "execution_count": 101
        }
      ]
    },
    {
      "cell_type": "code",
      "metadata": {
        "colab": {
          "base_uri": "https://localhost:8080/"
        },
        "id": "IA4l8gV1Xwjg",
        "outputId": "d28d209d-a2bf-4985-eafb-240e5d829d9c"
      },
      "source": [
        "# Load WGAN\n",
        "start_epoch = 48000\n",
        "\n",
        "checkpoint = torch.load(f'drive/MyDrive/save2/netG_epoch_{start_epoch}.pth')\n",
        "netG.load_state_dict(checkpoint['model_state_dict'])\n",
        "optimizerG.load_state_dict(checkpoint['optimizer_state_dict'])\n",
        "\n",
        "checkpoint = torch.load(f'drive/MyDrive/save2/netD_epoch_{start_epoch}.pth')\n",
        "netD.load_state_dict(checkpoint['model_state_dict'])\n",
        "optimizerD.load_state_dict(checkpoint['optimizer_state_dict'])\n",
        "\n",
        "errDss = open('drive/MyDrive/save2/Dcosts.txt', 'r')\n",
        "errDss = errDss.readlines()[0][1:-1].split(',')\n",
        "errDss = [float(s) for s in errDss[:start_epoch]]\n",
        "\n",
        "errGss = open('drive/MyDrive/save2/Gcosts.txt', 'r')\n",
        "errGss = errGss.readlines()[0][1:-1].split(',')\n",
        "errGss = [float(s) for s in errGss[:start_epoch]]\n",
        "\n",
        "print(netG.train())\n",
        "print(netD.train())"
      ],
      "execution_count": 83,
      "outputs": [
        {
          "output_type": "stream",
          "text": [
            "GRUGenerator(\n",
            "  (motion_encoder): Sequential(\n",
            "    (0): Linear(in_features=60, out_features=40, bias=True)\n",
            "    (1): ReLU()\n",
            "  )\n",
            "  (gru): GRU(120, 256, batch_first=True, bidirectional=True)\n",
            "  (linear): Sequential(\n",
            "    (0): Linear(in_features=512, out_features=60, bias=True)\n",
            "    (1): Tanh()\n",
            "  )\n",
            ")\n",
            "GRUDiscriminator(\n",
            "  (gru): GRU(60, 256, batch_first=True, bidirectional=True)\n",
            "  (linear): Linear(in_features=512, out_features=1, bias=True)\n",
            ")\n"
          ],
          "name": "stdout"
        }
      ]
    }
  ]
}